{
 "cells": [
  {
   "cell_type": "code",
   "execution_count": null,
   "metadata": {},
   "outputs": [],
   "source": [
    "class NeuralNetwork:\n",
    "    def __init__(self):\n",
    "        self.input = 2\n",
    "        self.hiddenNodes = 3\n",
    "        self.outputNodes = 1\n",
    "        self.weights1 = np.random.randn(self.input, self.hiddenNodes)\n",
    "        \n",
    "        self.weights2 = np.random.randn(self.hiddenNodes, )\n",
    "        \n",
    "        \n",
    "        \n",
    "        \n",
    "        def sigmoid(x):\n",
    "            return 1 / (1+np.exp(-x))\n",
    "\n",
    "        def sigmoid_derivative(x):\n",
    "            sx = sigmoid(x)\n",
    "            return sx* (1-sx)\n",
    "        "
   ]
  }
 ],
 "metadata": {
  "kernelspec": {
   "display_name": "U4-S1-NLP",
   "language": "python",
   "name": "u4-s1-nlp"
  },
  "language_info": {
   "codemirror_mode": {
    "name": "ipython",
    "version": 3
   },
   "file_extension": ".py",
   "mimetype": "text/x-python",
   "name": "python",
   "nbconvert_exporter": "python",
   "pygments_lexer": "ipython3",
   "version": "3.7.3"
  }
 },
 "nbformat": 4,
 "nbformat_minor": 2
}
